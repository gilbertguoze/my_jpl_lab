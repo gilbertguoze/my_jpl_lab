{
 "cells": [
  {
   "cell_type": "code",
   "execution_count": 13,
   "metadata": {},
   "outputs": [
    {
     "name": "stdout",
     "output_type": "stream",
     "text": [
      "1.2.3\n"
     ]
    }
   ],
   "source": [
    "import tushare as ts\n",
    "print(ts.__version__)\n",
    "df = ts.get_k_data('002743', ktype = '30', autype = 'qfq', start = '2018-01-01', end = '2018-06-20')\n",
    "df1 = ts.get_k_data('002743', ktype = 'D', autype = 'qfq', start = '2018-01-01', end = '2018-06-20')"
   ]
  },
  {
   "cell_type": "code",
   "execution_count": null,
   "metadata": {},
   "outputs": [],
   "source": []
  },
  {
   "cell_type": "code",
   "execution_count": 14,
   "metadata": {},
   "outputs": [],
   "source": [
    "import os\n",
    "if os.path.exists('002743_30.csv'):\n",
    "        df.to_csv('002743_30.csv', mode='a', header=None)\n",
    "else:\n",
    "        df.to_csv('002743_30.csv')\n",
    "if os.path.exists('002743_d.csv'):\n",
    "        df1.to_csv('002743_d.csv', mode='a', header=None)\n",
    "else:\n",
    "        df1.to_csv('002743_d.csv')"
   ]
  },
  {
   "cell_type": "code",
   "execution_count": null,
   "metadata": {},
   "outputs": [],
   "source": [
    "info = ts.get_stock_basics()\n",
    "#info.to_csv('info_stk.csv')"
   ]
  }
 ],
 "metadata": {
  "kernelspec": {
   "display_name": "Python 3",
   "language": "python",
   "name": "python3"
  },
  "language_info": {
   "codemirror_mode": {
    "name": "ipython",
    "version": 3
   },
   "file_extension": ".py",
   "mimetype": "text/x-python",
   "name": "python",
   "nbconvert_exporter": "python",
   "pygments_lexer": "ipython3",
   "version": "3.6.5"
  }
 },
 "nbformat": 4,
 "nbformat_minor": 2
}
